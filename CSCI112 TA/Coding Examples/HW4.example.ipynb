{
 "cells": [
  {
   "cell_type": "markdown",
   "metadata": {},
   "source": [
    "# Problem 1.\n",
    "Write a function called total string length that takes in two parameters, str1\n",
    "and str2, and returns the total length of these two strings."
   ]
  },
  {
   "cell_type": "code",
   "execution_count": 42,
   "metadata": {},
   "outputs": [],
   "source": [
    "def comb_len (str1: str, str2: str) -> int: \n",
    "    \"\"\"Return the total length of two strings\"\"\"\n",
    "    return len(str1) + len(str2)"
   ]
  },
  {
   "cell_type": "code",
   "execution_count": 43,
   "metadata": {},
   "outputs": [
    {
     "data": {
      "text/plain": [
       "10"
      ]
     },
     "execution_count": 43,
     "metadata": {},
     "output_type": "execute_result"
    }
   ],
   "source": [
    "str1 = \"Hello\"\n",
    "str2 = \"World\"\n",
    "\n",
    "comb_len(str1,str2)"
   ]
  },
  {
   "cell_type": "markdown",
   "metadata": {},
   "source": [
    "# Problem 2.\n",
    " Write a function called address that combines 3 different string address parameters (city, state, and zip) and returns a user’s address. After the city and state inputs,\n",
    "add a comma and a space"
   ]
  },
  {
   "cell_type": "code",
   "execution_count": 44,
   "metadata": {},
   "outputs": [],
   "source": [
    "def make_ad(city: str, state: str, zip: int) -> str: \n",
    "    \"\"\"Combine city, state, and zip to make an address\"\"\"\n",
    "    return city + \" \" + state + \" \" + str(zip)"
   ]
  },
  {
   "cell_type": "code",
   "execution_count": 45,
   "metadata": {},
   "outputs": [
    {
     "data": {
      "text/plain": [
       "'Lake Forest IL 66602'"
      ]
     },
     "execution_count": 45,
     "metadata": {},
     "output_type": "execute_result"
    }
   ],
   "source": [
    "city = \"Lake Forest\"\n",
    "state = \"IL\"\n",
    "zip = \"66602\"\n",
    "make_ad(city, state, zip)"
   ]
  },
  {
   "cell_type": "markdown",
   "metadata": {},
   "source": [
    "# Problem 3.\n",
    " Write a function apply discount(price, is member) that applies a discount\n",
    "based on membership status:\n",
    "• 10% discount for members.\n",
    "• No discount for non-member"
   ]
  },
  {
   "cell_type": "code",
   "execution_count": 46,
   "metadata": {},
   "outputs": [],
   "source": [
    "def mem_discount(price: float, memb: bool) -> float: \n",
    "    \"\"\"Apply discount based on membership status\"\"\"\n",
    "    if memb: \n",
    "        price -= price * 0.1\n",
    "    return price\n",
    "\n"
   ]
  },
  {
   "cell_type": "code",
   "execution_count": 47,
   "metadata": {},
   "outputs": [
    {
     "data": {
      "text/plain": [
       "90.0"
      ]
     },
     "execution_count": 47,
     "metadata": {},
     "output_type": "execute_result"
    }
   ],
   "source": [
    "mem_discount(100, True)"
   ]
  },
  {
   "cell_type": "markdown",
   "metadata": {},
   "source": [
    "# Problem 4.\n",
    " Write a function called shipping price that takes two arguments: weight and\n",
    "express and returns shipping cost based on the weight of the package and whether express\n",
    "shipping is selected:\n",
    "• Standard Shipping:\n",
    "– $5 for weights up to 2 lbs\n",
    "– $10 for weights above 2 lbs\n",
    "• Express Shipping:\n",
    "– $10 for weights up to 2 lbs\n",
    "– $20 for weights above 2 lbs\n",
    "For example"
   ]
  },
  {
   "cell_type": "code",
   "execution_count": 48,
   "metadata": {},
   "outputs": [],
   "source": [
    "def ship_price(weight: int, express: bool) -> int: \n",
    "    \"\"\"determine shipping cost\"\"\"\n",
    "    if express: \n",
    "        if weight <= 2: \n",
    "            price = 10\n",
    "        else: \n",
    "            price = 20\n",
    "    else: \n",
    "        if weight <= 2: \n",
    "            price = 5\n",
    "        else: \n",
    "            price = 10\n",
    "    return price"
   ]
  },
  {
   "cell_type": "code",
   "execution_count": 49,
   "metadata": {},
   "outputs": [
    {
     "name": "stdout",
     "output_type": "stream",
     "text": [
      "10\n",
      "20\n",
      "5\n",
      "10\n"
     ]
    }
   ],
   "source": [
    "print(ship_price(1, True))\n",
    "print(ship_price(4, True))\n",
    "print(ship_price(1, False))\n",
    "print(ship_price(4, False))"
   ]
  },
  {
   "cell_type": "markdown",
   "metadata": {},
   "source": [
    "# Problem 5. \n",
    "Write a function called final price that takes three arguments: price, weight,\n",
    "and express and returns the final total price. The final price is the sum of the price and\n",
    "the shipping cost which is calculated as follows\n",
    "• For purchase prices $100 or more, shipping is free.\n",
    "1\n",
    "• For purchase prices below $100, the shipping fee is calculated based on the formula\n",
    "from the previous problem.\n",
    "Your function should call the shipping price from the previous problem.\n"
   ]
  },
  {
   "cell_type": "code",
   "execution_count": 50,
   "metadata": {},
   "outputs": [],
   "source": [
    "def ship_total(price: float, weight: int, express: bool) -> float: \n",
    "    \"\"\"Determine total shipping cost\"\"\"\n",
    "    if price >= 100: \n",
    "        total_cost = 0\n",
    "    else: \n",
    "        total_cost = ship_price(weight, express)\n",
    "    return total_cost"
   ]
  },
  {
   "cell_type": "code",
   "execution_count": 51,
   "metadata": {},
   "outputs": [
    {
     "data": {
      "text/plain": [
       "20"
      ]
     },
     "execution_count": 51,
     "metadata": {},
     "output_type": "execute_result"
    }
   ],
   "source": [
    "ship_total(59, 5, True)"
   ]
  },
  {
   "cell_type": "markdown",
   "metadata": {},
   "source": [
    "# Problem 6.\n",
    " Write a function called even positive sum(a list) that takes a list of integers\n",
    "as an input. The function will return the sum of all positive even numbers in the list (a\n",
    "positive even number is a number that is both positive and even). "
   ]
  },
  {
   "cell_type": "code",
   "execution_count": 52,
   "metadata": {},
   "outputs": [],
   "source": [
    "def pos_sum(nums: list) -> int: \n",
    "    \"\"\"calculate sum of all even positive integers in a list\"\"\"\n",
    "    sum = 0 \n",
    "    for n in nums: \n",
    "        if n > 0 and n%2 == 0: \n",
    "            sum += n\n",
    "    return sum    "
   ]
  },
  {
   "cell_type": "code",
   "execution_count": 53,
   "metadata": {},
   "outputs": [
    {
     "data": {
      "text/plain": [
       "8"
      ]
     },
     "execution_count": 53,
     "metadata": {},
     "output_type": "execute_result"
    }
   ],
   "source": [
    "my_nums = [ -1 , 2 , -4 , 3 , 6]\n",
    "pos_sum(my_nums)"
   ]
  },
  {
   "cell_type": "code",
   "execution_count": 54,
   "metadata": {},
   "outputs": [],
   "source": [
    "#alternate solution:\n",
    "def alt_pos_sum(nums: list) -> int: \n",
    "    \"\"\"calculate sum of all even positive integers in a list\"\"\"\n",
    "    for n in nums: \n",
    "        if n < 0 or n % 2 != 0: \n",
    "            nums.remove(n)\n",
    "    \n",
    "    return sum(nums)"
   ]
  },
  {
   "cell_type": "code",
   "execution_count": 55,
   "metadata": {},
   "outputs": [
    {
     "data": {
      "text/plain": [
       "11"
      ]
     },
     "execution_count": 55,
     "metadata": {},
     "output_type": "execute_result"
    }
   ],
   "source": [
    "alt_pos_sum(my_nums)"
   ]
  },
  {
   "cell_type": "markdown",
   "metadata": {},
   "source": [
    "# Problem 7.\n",
    " Write a function called maximal element(a list) that takes a list as an input.\n",
    "The function will return the maximal element in the list. For example\n",
    "negative_sum ([1 , 5 , 2 , 4])"
   ]
  },
  {
   "cell_type": "code",
   "execution_count": 56,
   "metadata": {},
   "outputs": [],
   "source": [
    "def find_max(nums: list) -> int: \n",
    "    \"\"\"Find the max in a list\"\"\"\n",
    "    max = nums[0]\n",
    "    for n in nums: \n",
    "        if n > max: \n",
    "            max = n\n",
    "    return max "
   ]
  },
  {
   "cell_type": "code",
   "execution_count": 57,
   "metadata": {},
   "outputs": [],
   "source": [
    "def alt_find_max(nums: list) -> int: \n",
    "    \"\"\"Find the max in a list\"\"\"\n",
    "    return max(nums)"
   ]
  },
  {
   "cell_type": "code",
   "execution_count": 58,
   "metadata": {},
   "outputs": [
    {
     "data": {
      "text/plain": [
       "6"
      ]
     },
     "execution_count": 58,
     "metadata": {},
     "output_type": "execute_result"
    }
   ],
   "source": [
    "find_max(my_nums)"
   ]
  },
  {
   "cell_type": "code",
   "execution_count": 59,
   "metadata": {},
   "outputs": [
    {
     "data": {
      "text/plain": [
       "6"
      ]
     },
     "execution_count": 59,
     "metadata": {},
     "output_type": "execute_result"
    }
   ],
   "source": [
    "alt_find_max(my_nums)"
   ]
  },
  {
   "cell_type": "markdown",
   "metadata": {},
   "source": [
    "# Problem 8.\n",
    " Write a function called is prime(n) that checks whether a number is a prime\n",
    "number or not. A prime number is a number whose divisors are 1 and itself. For example:\n",
    "2, 5, 7, and 11 are prime numbers while 6 is not.\n"
   ]
  },
  {
   "cell_type": "code",
   "execution_count": 60,
   "metadata": {},
   "outputs": [],
   "source": [
    "def prime(num: int) -> bool: \n",
    "    \"\"\"Determine if a number is a prime number\"\"\"\n",
    "    is_prime = True\n",
    "    n = 2\n",
    "    while n < num: \n",
    "        if num % n == 0: \n",
    "            is_prime = False\n",
    "            break\n",
    "        else: \n",
    "            n += 1\n",
    "    return is_prime\n",
    "       "
   ]
  },
  {
   "cell_type": "code",
   "execution_count": 61,
   "metadata": {},
   "outputs": [
    {
     "data": {
      "text/plain": [
       "False"
      ]
     },
     "execution_count": 61,
     "metadata": {},
     "output_type": "execute_result"
    }
   ],
   "source": [
    "prime(12)"
   ]
  },
  {
   "cell_type": "markdown",
   "metadata": {},
   "source": [
    "# Problem 9.\n",
    " An integer n is called a perfect square if n = m2\n",
    "for some integer n. For\n",
    "example, 4 is a perfect square because 4 = 22\n",
    ". On other other hand, 6 is not a perfect\n",
    "square. Write a function called is square(n) to check whether a number n is a perfect\n",
    "square."
   ]
  },
  {
   "cell_type": "code",
   "execution_count": 62,
   "metadata": {},
   "outputs": [],
   "source": [
    "def per_square(num: int) -> bool: \n",
    "    \"\"\"Determine if a number is a perfect square\"\"\"\n",
    "    # can also is math.issquare(num)\n",
    "    n = 0\n",
    "    if num < 0: \n",
    "        is_square = False; \n",
    "    else: \n",
    "        while n * n <= num: \n",
    "            if n *n == num: \n",
    "                is_square = True\n",
    "                break \n",
    "            else: \n",
    "                n += 1\n",
    "                is_square = False\n",
    "    return is_square"
   ]
  },
  {
   "cell_type": "code",
   "execution_count": 63,
   "metadata": {},
   "outputs": [
    {
     "data": {
      "text/plain": [
       "True"
      ]
     },
     "execution_count": 63,
     "metadata": {},
     "output_type": "execute_result"
    }
   ],
   "source": [
    "per_square(4)"
   ]
  },
  {
   "cell_type": "markdown",
   "metadata": {},
   "source": [
    "# Problem 10.\n",
    " Write a function that takes a string as an input and returns True if this\n",
    "string contains the lowercase letter h. Otherwise, return False"
   ]
  },
  {
   "cell_type": "code",
   "execution_count": 64,
   "metadata": {},
   "outputs": [],
   "source": [
    "def contains(my_string: str) -> bool: \n",
    "    \"\"\"Determine in a string contains the letter h\"\"\"\n",
    "    return True if 'h' in my_string else False"
   ]
  },
  {
   "cell_type": "code",
   "execution_count": 65,
   "metadata": {},
   "outputs": [
    {
     "data": {
      "text/plain": [
       "True"
      ]
     },
     "execution_count": 65,
     "metadata": {},
     "output_type": "execute_result"
    }
   ],
   "source": [
    "contains(\"hi\")"
   ]
  }
 ],
 "metadata": {
  "kernelspec": {
   "display_name": "Python 3",
   "language": "python",
   "name": "python3"
  },
  "language_info": {
   "codemirror_mode": {
    "name": "ipython",
    "version": 3
   },
   "file_extension": ".py",
   "mimetype": "text/x-python",
   "name": "python",
   "nbconvert_exporter": "python",
   "pygments_lexer": "ipython3",
   "version": "3.12.6"
  }
 },
 "nbformat": 4,
 "nbformat_minor": 2
}
