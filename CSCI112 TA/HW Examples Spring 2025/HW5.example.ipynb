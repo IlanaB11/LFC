{
 "cells": [
  {
   "cell_type": "markdown",
   "metadata": {},
   "source": [
    "# Problem 1. \n",
    "Write a function filter positive even(numbers) that takes a list of integers\n",
    "and returns a new list containing only the positive even numbers.\n",
    "filter_even ([1 , -2 , -3 , 4 , 5 , 6])\n"
   ]
  },
  {
   "cell_type": "code",
   "execution_count": 100,
   "metadata": {},
   "outputs": [],
   "source": [
    "def filter(my_nums: list) -> list: \n",
    "    \"\"\"filter even positive numbers from a list\"\"\"\n",
    "    fit_list = []\n",
    "    for n in my_nums: \n",
    "        if n > 0 and n % 2 == 0: \n",
    "            fit_list.append(n)\n",
    "    return fit_list"
   ]
  },
  {
   "cell_type": "code",
   "execution_count": 101,
   "metadata": {},
   "outputs": [
    {
     "data": {
      "text/plain": [
       "[4, 6]"
      ]
     },
     "execution_count": 101,
     "metadata": {},
     "output_type": "execute_result"
    }
   ],
   "source": [
    "filter([1 , -2 , -3 , 4 , 5 , 6])"
   ]
  },
  {
   "cell_type": "markdown",
   "metadata": {},
   "source": [
    "# Problem 2. \n",
    "Write a function named is empty(a list) that returns True if the list is empty\n",
    "and False otherwise."
   ]
  },
  {
   "cell_type": "code",
   "execution_count": 102,
   "metadata": {},
   "outputs": [],
   "source": [
    "def empty(a_list:list)-> bool: \n",
    "    \"\"\"return True is list is empty\"\"\"\n",
    "    return True if not a_list else False"
   ]
  },
  {
   "cell_type": "code",
   "execution_count": 103,
   "metadata": {},
   "outputs": [
    {
     "data": {
      "text/plain": [
       "True"
      ]
     },
     "execution_count": 103,
     "metadata": {},
     "output_type": "execute_result"
    }
   ],
   "source": [
    "empty([])"
   ]
  },
  {
   "cell_type": "markdown",
   "metadata": {},
   "source": [
    "# Problem 3.\n",
    " Write a function named multiply factor(a list, factor) that returns a list where\n",
    "each element in the original list is multiplied by the given factor. "
   ]
  },
  {
   "cell_type": "code",
   "execution_count": 104,
   "metadata": {},
   "outputs": [],
   "source": [
    "def factor(nums:list, fac: int)-> list: \n",
    "    \"\"\"multiply all values in a list by a factor\"\"\"\n",
    "    multi_nums = []\n",
    "    for n in nums: \n",
    "        multi_nums.append(n * 2) #can also override list values using index - see problem 5\n",
    "    return multi_nums\n",
    "        "
   ]
  },
  {
   "cell_type": "code",
   "execution_count": 105,
   "metadata": {},
   "outputs": [
    {
     "data": {
      "text/plain": [
       "[2, 4, 6, 8, 10]"
      ]
     },
     "execution_count": 105,
     "metadata": {},
     "output_type": "execute_result"
    }
   ],
   "source": [
    "factor([1, 2, 3, 4, 5], 2)"
   ]
  },
  {
   "cell_type": "markdown",
   "metadata": {},
   "source": [
    "# Problem 4.\n",
    "Write a function named remove element(a list, element) that takes a list and\n",
    "an element as input and returns a new list with all occurrences of that element removed.\n",
    "For example\n",
    "removed_element ([0 , \" test \", 1 , \" apple \", 0 , 1.1] , 0)\n",
    "should return [“test”, 1, ”apple”, 1.1].\n",
    "\n"
   ]
  },
  {
   "cell_type": "code",
   "execution_count": 106,
   "metadata": {},
   "outputs": [],
   "source": [
    "def remove(a_list:list, thing) -> list: \n",
    "   \"\"\"Remove all instances of something from a list\"\"\"\n",
    "   for thing in a_list: \n",
    "      a_list.remove(thing)\n",
    "   return a_list"
   ]
  },
  {
   "cell_type": "code",
   "execution_count": 107,
   "metadata": {},
   "outputs": [
    {
     "data": {
      "text/plain": [
       "[' test ', ' apple ', 1.1]"
      ]
     },
     "execution_count": 107,
     "metadata": {},
     "output_type": "execute_result"
    }
   ],
   "source": [
    "remove([0 , \" test \", 1 , \" apple \", 0 , 1.1] , 0)"
   ]
  },
  {
   "cell_type": "markdown",
   "metadata": {},
   "source": [
    "# Problem 5.\n",
    " Write a function uppercase strings(a list) that takes a list of strings and\n",
    "returns a new list with all the strings in uppercase. For example\n",
    "uppercase_strings ([\" Anne \", \" Ben\", \" David \"])\n",
    "should return [“ANNE”, “BEN”, “DAVID”].\n"
   ]
  },
  {
   "cell_type": "code",
   "execution_count": 108,
   "metadata": {},
   "outputs": [],
   "source": [
    "def upper(a_list:list) -> list: \n",
    "    \"\"\"Make all string in a list uppercase\"\"\"\n",
    "    for i in range(len(a_list)): \n",
    "        a_list[i] = a_list[i].upper()\n",
    "    return a_list\n",
    "        "
   ]
  },
  {
   "cell_type": "code",
   "execution_count": 109,
   "metadata": {},
   "outputs": [
    {
     "data": {
      "text/plain": [
       "[' ANNE ', ' BEN', ' DAVID ']"
      ]
     },
     "execution_count": 109,
     "metadata": {},
     "output_type": "execute_result"
    }
   ],
   "source": [
    "upper([\" Anne \", \" Ben\", \" David \"])"
   ]
  },
  {
   "cell_type": "markdown",
   "metadata": {},
   "source": [
    "# Problem 6.\n",
    " Write a function last names(full names) that takes a list of full names and\n",
    "returns a new list containing all last names. Here, we assume that each full name consists\n",
    "of a first name followed by a last name, separated by a space. For example,\n",
    "last_names ([\" David Hilbert \", \" Michael Jordan \", \" Alan Turing \"])\n",
    "should return [“Hilbert”, “Jordan”, ”Turing”].\n"
   ]
  },
  {
   "cell_type": "code",
   "execution_count": 110,
   "metadata": {},
   "outputs": [],
   "source": [
    "def last_name(names:list) -> list: \n",
    "    \"\"\"Get last name from full name\"\"\"\n",
    "    last_names = []\n",
    "    for name in names: \n",
    "        last_names.append(name.split()[-1])\n",
    "    return last_names"
   ]
  },
  {
   "cell_type": "code",
   "execution_count": 111,
   "metadata": {},
   "outputs": [
    {
     "data": {
      "text/plain": [
       "['Hilbert', 'Jordan', 'Turing']"
      ]
     },
     "execution_count": 111,
     "metadata": {},
     "output_type": "execute_result"
    }
   ],
   "source": [
    "last_name([\" David Hilbert \", \" Michael Jordan \", \" Alan Turing \"])"
   ]
  },
  {
   "cell_type": "markdown",
   "metadata": {},
   "source": [
    "# Problem 7.\n",
    " Write a function join strings(a list) that takes a list of strings and joins them\n",
    "into a single string, separated by spaces.\n",
    "join_strings ([\"I\", \" Love \", \" Lake \", \" Forest \", \" College \"])"
   ]
  },
  {
   "cell_type": "code",
   "execution_count": 112,
   "metadata": {},
   "outputs": [],
   "source": [
    "def join_string(a_list: list) -> str:\n",
    "    \"\"\"combind all string in a list\"\"\"\n",
    "    my_str = \"\" \n",
    "    for word in a_list: \n",
    "        my_str += word \n",
    "    return my_str\n",
    "    "
   ]
  },
  {
   "cell_type": "code",
   "execution_count": 113,
   "metadata": {},
   "outputs": [
    {
     "data": {
      "text/plain": [
       "'I Love  Lake  Forest  College '"
      ]
     },
     "execution_count": 113,
     "metadata": {},
     "output_type": "execute_result"
    }
   ],
   "source": [
    "join_string ([\"I\", \" Love \", \" Lake \", \" Forest \", \" College \"])"
   ]
  },
  {
   "cell_type": "markdown",
   "metadata": {},
   "source": [
    "# Problem 8.\n",
    " Write a function longest string(a list) that takes a list of strings and returns\n",
    "the longest string. For example\n",
    "longest_string ([\" apple \", \" banana \", \" mango \"])\n",
    "should return “banana”.\n",
    "\n"
   ]
  },
  {
   "cell_type": "code",
   "execution_count": 114,
   "metadata": {},
   "outputs": [],
   "source": [
    "def longest_str(a_list: list) -> str: \n",
    "    \"\"\"return the longest string in a list\"\"\"\n",
    "    long_str = \"\"\n",
    "    for i in range(len(a_list)): \n",
    "        long_str = a_list[i] if len(a_list[i]) > len(long_str) else long_str\n",
    "    return long_str"
   ]
  },
  {
   "cell_type": "code",
   "execution_count": 115,
   "metadata": {},
   "outputs": [
    {
     "data": {
      "text/plain": [
       "' banana '"
      ]
     },
     "execution_count": 115,
     "metadata": {},
     "output_type": "execute_result"
    }
   ],
   "source": [
    "longest_str ([\" apple \", \" banana \", \" mango \"])"
   ]
  },
  {
   "cell_type": "markdown",
   "metadata": {},
   "source": [
    "# Problem 9. \n",
    "Given a list of circle radii, create a new list containing the corresponding\n",
    "areas of the circles, rounded to one decimal place. For example, if the list is\n",
    "radii = [1 ,2 ,3]\n",
    "then, the corresponding areas should be [3.1, 12.6, 28.3].\n"
   ]
  },
  {
   "cell_type": "code",
   "execution_count": 41,
   "metadata": {},
   "outputs": [
    {
     "data": {
      "text/plain": [
       "[3.1, 12.6, 28.3]"
      ]
     },
     "execution_count": 41,
     "metadata": {},
     "output_type": "execute_result"
    }
   ],
   "source": [
    "radii = [1, 2, 3]\n",
    "area = []\n",
    "for radius in radii: \n",
    "    area.append(round(3.14 * radius ** 2, 1))\n",
    "area"
   ]
  },
  {
   "cell_type": "markdown",
   "metadata": {},
   "source": [
    "# Problem 10.\n",
    "From a list of strings, create a new list that contains the first letter of each\n",
    "string. For example, if the given list is [“Apple”, “Banana”, “Mango”], the new list should\n",
    "be [“A”, “B”, “M”].\n"
   ]
  },
  {
   "cell_type": "code",
   "execution_count": 117,
   "metadata": {},
   "outputs": [
    {
     "data": {
      "text/plain": [
       "['H', 'T', 'F']"
      ]
     },
     "execution_count": 117,
     "metadata": {},
     "output_type": "execute_result"
    }
   ],
   "source": [
    "f_l = []\n",
    "a_list = [\"Hi\", \"There\", \"Friend\"]\n",
    "for word in a_list: \n",
    "    f_l.append(word[0])\n",
    "f_l"
   ]
  },
  {
   "cell_type": "markdown",
   "metadata": {},
   "source": [
    "# Problem 11. \n",
    "Given a list of words, create a new list containing only those words that are\n",
    "shorter than 4 characters. For example, if the list is [“Ant”, “Dog”, “Lion”, ”Fish”]), the\n",
    "new list should be [“Ant”, “Dog”]."
   ]
  },
  {
   "cell_type": "code",
   "execution_count": 118,
   "metadata": {},
   "outputs": [
    {
     "data": {
      "text/plain": [
       "['Ant', 'Dog']"
      ]
     },
     "execution_count": 118,
     "metadata": {},
     "output_type": "execute_result"
    }
   ],
   "source": [
    "a_list = [\"Ant\", \"Dog\", \"Fish\", \"Lion\"]\n",
    "short_word = []\n",
    "for word in a_list: \n",
    "    if len(word) <= 3: \n",
    "        short_word.append(word)\n",
    "short_word"
   ]
  }
 ],
 "metadata": {
  "kernelspec": {
   "display_name": "Python 3",
   "language": "python",
   "name": "python3"
  },
  "language_info": {
   "codemirror_mode": {
    "name": "ipython",
    "version": 3
   },
   "file_extension": ".py",
   "mimetype": "text/x-python",
   "name": "python",
   "nbconvert_exporter": "python",
   "pygments_lexer": "ipython3",
   "version": "3.12.6"
  }
 },
 "nbformat": 4,
 "nbformat_minor": 2
}
