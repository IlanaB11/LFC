{
 "cells": [
  {
   "cell_type": "markdown",
   "metadata": {},
   "source": [
    "# Question 1\n",
    "(1) Write a function named recursive sum(alist) that takes a list of numbers as input\n",
    "and returns the sum of the squares of all elements in the list."
   ]
  },
  {
   "cell_type": "code",
   "execution_count": 49,
   "metadata": {},
   "outputs": [],
   "source": [
    "def recur_sum(my_list: list) -> int: \n",
    "    \"\"\"use recursion to find the sum of the square of all elements in a list\"\"\"\n",
    "    #to use recursion a function must call itselt\n",
    "    if my_list: \n",
    "        return my_list[0] **2 + recur_sum(my_list[1:])\n",
    "    else: \n",
    "        return 0\n",
    "    "
   ]
  },
  {
   "cell_type": "markdown",
   "metadata": {},
   "source": [
    "(2) Write another function non recursive sum(alist) to achieve the same goal."
   ]
  },
  {
   "cell_type": "code",
   "execution_count": 67,
   "metadata": {},
   "outputs": [],
   "source": [
    "import math"
   ]
  },
  {
   "cell_type": "code",
   "execution_count": 72,
   "metadata": {},
   "outputs": [],
   "source": [
    "def non_recur_sum(my_list: list) -> int: \n",
    "    \"\"\"find the sum of the square of all elements in a list\"\"\"\n",
    "    total = 0\n",
    "    for n in my_list: \n",
    "        total += n **2\n",
    "    return total"
   ]
  },
  {
   "cell_type": "code",
   "execution_count": 73,
   "metadata": {},
   "outputs": [
    {
     "name": "stdout",
     "output_type": "stream",
     "text": [
      "recursive: 14\n",
      "non-recursive: 14\n"
     ]
    }
   ],
   "source": [
    "print(f'recursive: {recur_sum([1, 2, -3])}')\n",
    "print(f'non-recursive: {non_recur_sum([1, 2, -3])}')"
   ]
  },
  {
   "cell_type": "markdown",
   "metadata": {},
   "source": [
    "# Question 2\n",
    "(1) Write a recursive function recurive sum of powers(n, k) that computes the sum of\n",
    "the first n integers raised to the power of k."
   ]
  },
  {
   "cell_type": "code",
   "execution_count": null,
   "metadata": {},
   "outputs": [],
   "source": [
    "def recur_pow(n: int, p:int) -> int: \n",
    "    \"\"\"Use recersion to find the sum of integers to a power\"\"\"\n",
    "    if n == 0: \n",
    "        return 0 \n",
    "    else: \n",
    "        return n ** p + recur_pow(n-1, p)"
   ]
  },
  {
   "cell_type": "markdown",
   "metadata": {},
   "source": [
    "(2) Write a non-recursive version to achieve the same goal."
   ]
  },
  {
   "cell_type": "code",
   "execution_count": null,
   "metadata": {},
   "outputs": [],
   "source": [
    "def non_recur_pow(n: int, p:int) -> int: \n",
    "    \"\"\"find the sum of integers to a power\"\"\"\n",
    "    return sum(num**p for num in range(n + 1))"
   ]
  },
  {
   "cell_type": "code",
   "execution_count": null,
   "metadata": {},
   "outputs": [
    {
     "name": "stdout",
     "output_type": "stream",
     "text": [
      "recursion: 14\n",
      "non recursion: 14\n"
     ]
    }
   ],
   "source": [
    "print(f'recursion: {recur_pow(3,2)}')\n",
    "print(f'non recursion: {non_recur_pow(3,2)}')"
   ]
  },
  {
   "cell_type": "markdown",
   "metadata": {},
   "source": [
    "# Problem 3.\n",
    "Write a Python function linear search(arr, target) that takes an array\n",
    "arr and a target value as input and returns the index of the target if found, or -1 if not\n",
    "found. Implement the function iteratively."
   ]
  },
  {
   "cell_type": "code",
   "execution_count": null,
   "metadata": {},
   "outputs": [],
   "source": [
    "def lin_search(my_list: list, t) -> int: \n",
    "    \"\"\"find a target value in a list\"\"\"\n",
    "    for i in range(len(my_list)): \n",
    "        if my_list[i] == t: #iterate \n",
    "            return i\n",
    "    else: \n",
    "        return -1"
   ]
  },
  {
   "cell_type": "code",
   "execution_count": null,
   "metadata": {},
   "outputs": [
    {
     "name": "stdout",
     "output_type": "stream",
     "text": [
      "Target at index: 1\n"
     ]
    }
   ],
   "source": [
    "print(f'Target at index: {lin_search(['Hello', 'Hi', 'Goodbye' ], 'Hi')}')"
   ]
  },
  {
   "cell_type": "markdown",
   "metadata": {},
   "source": [
    "# Problem 4\n",
    "Write a Python function binary search(arr, target) that implements the\n",
    "binary search algorithm iteratively. Assume arr is sorted in ascending order."
   ]
  },
  {
   "cell_type": "code",
   "execution_count": null,
   "metadata": {},
   "outputs": [],
   "source": [
    "def bin_search(my_list: list, t: int) -> list: \n",
    "    \"\"\"use binary search\"\"\"\n",
    "    if t > my_list[len(my_list)//2]: \n",
    "        return my_list[len(my_list)//2:]\n",
    "    elif t < my_list[len(my_list)//2]: \n",
    "        return my_list[:len(my_list)//2]\n",
    "    else: \n",
    "        return my_list[len(my_list)//2]\n",
    "    "
   ]
  },
  {
   "cell_type": "code",
   "execution_count": null,
   "metadata": {},
   "outputs": [
    {
     "data": {
      "text/plain": [
       "[4, 5, 6, 7]"
      ]
     },
     "execution_count": 11,
     "metadata": {},
     "output_type": "execute_result"
    }
   ],
   "source": [
    "bin_search([1, 2, 3, 4, 5, 6, 7], 5)"
   ]
  },
  {
   "cell_type": "markdown",
   "metadata": {},
   "source": [
    "# Problem 5. \n",
    "Modify your function from Problem 4 to work recursively. Call this function\n",
    "binary search recursive(arr, target, left, right). Explain how recursion helps\n",
    "in breaking down the problem.\n"
   ]
  },
  {
   "cell_type": "code",
   "execution_count": null,
   "metadata": {},
   "outputs": [],
   "source": [
    "def recur_bin_search(my_list: list, t:int, left: int, right: int): \n",
    "    \"\"\"use recursion to binary search \"\"\"\n",
    "    middle = (left + right)//2\n",
    "    if t > my_list[middle]: \n",
    "        return recur_bin_search(my_list, t, middle, right)\n",
    "    elif t < my_list[middle]: \n",
    "        return recur_bin_search(my_list, t, left, middle)\n",
    "    elif my_list[middle] == t: \n",
    "        return t\n",
    "    \n",
    "    "
   ]
  },
  {
   "cell_type": "code",
   "execution_count": null,
   "metadata": {},
   "outputs": [
    {
     "data": {
      "text/plain": [
       "4"
      ]
     },
     "execution_count": 13,
     "metadata": {},
     "output_type": "execute_result"
    }
   ],
   "source": [
    "my_list = [1, 2, 3, 4, 5, 6, 7]\n",
    "recur_bin_search(my_list, 4, 0, len(my_list))"
   ]
  },
  {
   "cell_type": "markdown",
   "metadata": {},
   "source": [
    "# Problem 6.\n",
    "Given a sorted array arr = [2, 4, 7, 10, 15, 20, 30], show the sequence of recursive calls made when searching for 15 using binary search recursive."
   ]
  },
  {
   "cell_type": "code",
   "execution_count": null,
   "metadata": {},
   "outputs": [],
   "source": [
    "def show_recur_bin_search(my_list: list, t:int, left: int, right: int): \n",
    "    \"\"\"use recursion to binary search \"\"\"\n",
    "    print(my_list[left:right])\n",
    "    middle = (left + right)//2\n",
    "    if t > my_list[middle]: \n",
    "        return show_recur_bin_search(my_list, t, middle, right)\n",
    "    elif t < my_list[middle]: \n",
    "        return show_recur_bin_search(my_list, t, left, middle)\n",
    "    elif my_list[middle] == t: \n",
    "        return t"
   ]
  },
  {
   "cell_type": "code",
   "execution_count": null,
   "metadata": {},
   "outputs": [
    {
     "name": "stdout",
     "output_type": "stream",
     "text": [
      "[1, 2, 3, 4, 5, 6, 7]\n",
      "[4, 5, 6, 7]\n",
      "[6, 7]\n"
     ]
    },
    {
     "data": {
      "text/plain": [
       "7"
      ]
     },
     "execution_count": 15,
     "metadata": {},
     "output_type": "execute_result"
    }
   ],
   "source": [
    "my_list = [1, 2, 3, 4, 5, 6, 7]\n",
    "show_recur_bin_search(my_list, 7, 0, len(my_list))"
   ]
  },
  {
   "cell_type": "markdown",
   "metadata": {},
   "source": [
    "# Problem 7.\n",
    "Write a recursive function sum of digits(n) that takes a positive integer n\n",
    "and returns the sum of its digits. For example, sum of digits(1234) should return 10\n",
    "(1+2+3+4)"
   ]
  },
  {
   "cell_type": "code",
   "execution_count": null,
   "metadata": {},
   "outputs": [],
   "source": [
    "def recur_dig_sum(n: int) -> int: \n",
    "    \"\"\"use recursion to return the sum of a numbers digits\"\"\"\n",
    "    n = str(n)\n",
    "    if not n: \n",
    "        return 0\n",
    "    else: \n",
    "        return int(n[0]) + recur_dig_sum(n[1:])"
   ]
  },
  {
   "cell_type": "code",
   "execution_count": null,
   "metadata": {},
   "outputs": [
    {
     "data": {
      "text/plain": [
       "10"
      ]
     },
     "execution_count": 17,
     "metadata": {},
     "output_type": "execute_result"
    }
   ],
   "source": [
    "recur_dig_sum(1234)"
   ]
  },
  {
   "cell_type": "markdown",
   "metadata": {},
   "source": [
    "# Problem 8.\n",
    "Write a recursive function reverse string(s) that takes a string s and\n",
    "returns the reversed version of the string. For example, reverse string(\"hello\") should\n",
    "return ”olleh”."
   ]
  },
  {
   "cell_type": "code",
   "execution_count": null,
   "metadata": {},
   "outputs": [],
   "source": [
    "def recur_rev_str(s: str) -> str: \n",
    "    if not s: \n",
    "        return ''\n",
    "    else: \n",
    "        return s[-1] + recur_rev_str(s[:len(s) -1])"
   ]
  },
  {
   "cell_type": "code",
   "execution_count": null,
   "metadata": {},
   "outputs": [
    {
     "data": {
      "text/plain": [
       "'olleH'"
      ]
     },
     "execution_count": 19,
     "metadata": {},
     "output_type": "execute_result"
    }
   ],
   "source": [
    "recur_rev_str('Hello')"
   ]
  }
 ],
 "metadata": {
  "kernelspec": {
   "display_name": "Python 3",
   "language": "python",
   "name": "python3"
  },
  "language_info": {
   "codemirror_mode": {
    "name": "ipython",
    "version": 3
   },
   "file_extension": ".py",
   "mimetype": "text/x-python",
   "name": "python",
   "nbconvert_exporter": "python",
   "pygments_lexer": "ipython3",
   "version": "3.12.6"
  }
 },
 "nbformat": 4,
 "nbformat_minor": 2
}
