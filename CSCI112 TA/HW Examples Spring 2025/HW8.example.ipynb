{
 "cells": [
  {
   "cell_type": "markdown",
   "metadata": {},
   "source": [
    "# Problem 1.\n",
    " Create a tuple my tuple with the following elements: \"apple\", \"banana\",\n",
    "\"cherry\", 42, 3.14. Write a function access tuple elements(tup) that returns the first and last elements of the tuple.\n"
   ]
  },
  {
   "cell_type": "code",
   "execution_count": 2,
   "metadata": {},
   "outputs": [
    {
     "name": "stdout",
     "output_type": "stream",
     "text": [
      "First: apple\n",
      "Last: 3.14\n"
     ]
    }
   ],
   "source": [
    "my_tuple = (\"apple\", \"banana\", \"cherry\", 42, 3.14)\n",
    "def tup_el(my_t: tuple): \n",
    "    \"\"\"return the first and last elements of a tuple\"\"\"\n",
    "    return my_t[0], my_t[-1]\n",
    "first, last = tup_el(my_tuple)\n",
    "\n",
    "print(f'First: {first}')\n",
    "print(f'Last: {last}')"
   ]
  },
  {
   "cell_type": "markdown",
   "metadata": {},
   "source": [
    "# Problem 2.\n",
    " Write a function concat tuples(tup1, tup2) that takes two tuples as\n",
    "input and returns a new tuple that is the concatenation of the two.\n"
   ]
  },
  {
   "cell_type": "code",
   "execution_count": 4,
   "metadata": {},
   "outputs": [
    {
     "name": "stdout",
     "output_type": "stream",
     "text": [
      "('apple', 'grape', 'orange', 1, 2, 3)\n"
     ]
    }
   ],
   "source": [
    "def t_concat(t1: tuple, t2: tuple) -> tuple: \n",
    "    \"\"\"return a new tuple concatonating two tuples\"\"\"\n",
    "    return t1 + t2\n",
    "\n",
    "t_1 = ('apple', 'grape', 'orange')\n",
    "t_2 = ( 1, 2, 3)\n",
    "t_12 = t_concat(t_1, t_2)\n",
    "\n",
    "print(t_12)"
   ]
  },
  {
   "cell_type": "markdown",
   "metadata": {},
   "source": [
    "# Problem 3, \n",
    "Given a tuple person = (\"Alice\", 25, \"New York\"), write a function\n",
    "unpack person(tup) that extracts the name, age, and city into separate variables and returns them.\n"
   ]
  },
  {
   "cell_type": "code",
   "execution_count": 5,
   "metadata": {},
   "outputs": [
    {
     "name": "stdout",
     "output_type": "stream",
     "text": [
      "Name: Alice\n",
      "Age: 25\n",
      "City: New York\n"
     ]
    }
   ],
   "source": [
    "t_p = (\"Alice\", 25, \"New York\")\n",
    "\n",
    "def unpack_tp(tp: tuple): \n",
    "    \"\"\"unpack a tuple into name, age, and city\"\"\"\n",
    "    (name, age, city) = tp\n",
    "    return name, age, city\n",
    "\n",
    "p_name, p_age, p_city = unpack_tp(t_p)\n",
    "\n",
    "print(f'Name: {p_name}')\n",
    "print(f'Age: {p_age}')\n",
    "print(f'City: {p_city}')\n",
    "\n",
    "    "
   ]
  },
  {
   "cell_type": "markdown",
   "metadata": {},
   "source": [
    "# Problem 4.\n",
    " Write a function sum numbers in tuple(tup) that takes a tuple containing both numbers and strings and returns the sum of only the numeric elements.\n"
   ]
  },
  {
   "cell_type": "code",
   "execution_count": 7,
   "metadata": {},
   "outputs": [
    {
     "name": "stdout",
     "output_type": "stream",
     "text": [
      "Sum: 5\n"
     ]
    }
   ],
   "source": [
    "def sum_num(tp: tuple) -> int: \n",
    "    \"\"\"return sum of all int values in a tuple\"\"\"\n",
    "    sum = 0 \n",
    "    for v in tp: \n",
    "        if type(v) == int: \n",
    "            sum += v\n",
    "    return sum \n",
    "\n",
    "print(f'Sum: {sum_num((1, 'five', 4, '5'))}')"
   ]
  },
  {
   "cell_type": "markdown",
   "metadata": {},
   "source": [
    "# Problem 5.\n",
    " Write a function slice tuple(tup, start, end) that takes a tuple and\n",
    "two indices as input and returns a new tuple containing elements from the start\n",
    "index up to but not including the end index.\n"
   ]
  },
  {
   "cell_type": "code",
   "execution_count": 8,
   "metadata": {},
   "outputs": [
    {
     "name": "stdout",
     "output_type": "stream",
     "text": [
      "Full: ('Art', 'History', 'Chemistry', 'Data Science', 'Computer Science', 'Soan', 'Econ')\n",
      "Sliced: ('Chemistry', 'Data Science', 'Computer Science')\n"
     ]
    }
   ],
   "source": [
    "def slice_tp(tp: tuple, s:int, e:int) -> tuple:\n",
    "    \"\"\"return tuple without end index\"\"\"\n",
    "    return tp[s : e]\n",
    "\n",
    "full_t = (\"Art\", \"History\", \"Chemistry\", \"Data Science\", \"Computer Science\", \"Soan\", \"Econ\")\n",
    "sliced_t = slice_tp(full_t, 2, 5)\n",
    "\n",
    "print(f'Full: {full_t}')\n",
    "print(f'Sliced: {sliced_t}')"
   ]
  },
  {
   "cell_type": "markdown",
   "metadata": {},
   "source": [
    "# Problem 6.\n",
    " Write a function create employee dictionary(name, department, salary)\n",
    "that takes three arguments and returns a dictionary with keys \"name\", \"department\",\n",
    "and \"salary\" assigned to the corresponding values.\n"
   ]
  },
  {
   "cell_type": "code",
   "execution_count": 10,
   "metadata": {},
   "outputs": [
    {
     "name": "stdout",
     "output_type": "stream",
     "text": [
      "{'name': 'Ilana', 'department': 'TA', 'salary': 11.99}\n"
     ]
    }
   ],
   "source": [
    "def make_emp(name: str, dep: str, sal: float) -> dict:\n",
    "    \"\"\"return a dictionary with values set to input values\"\"\"\n",
    "    return {'name': name, 'department': dep, 'salary': sal}\n",
    "\n",
    "print(make_emp('Ilana', 'TA', 11.99))"
   ]
  },
  {
   "cell_type": "markdown",
   "metadata": {},
   "source": [
    "# Problem 7.\n",
    " Write a function update dictionary(d, key, value) that updates the\n",
    "given dictionary d by setting d[key] = value. If the key does not exist, add\n",
    "it.\n"
   ]
  },
  {
   "cell_type": "code",
   "execution_count": 16,
   "metadata": {},
   "outputs": [
    {
     "name": "stdout",
     "output_type": "stream",
     "text": [
      "When key already exists: {'name': 'Ilana', 'major': 'Chem'}\n",
      "Adding key: {'name': 'Ilana', 'year': 2027, 'major': 'Chem'}\n"
     ]
    }
   ],
   "source": [
    "def up_dict(d: dict, key: str, val: str) -> dict: \n",
    "    \"\"\"return dictionary with updated or added key\"\"\"\n",
    "    d.update({key: val})\n",
    "\n",
    "my_d = {'name': 'Ilana', 'major': 'Data Sci'}\n",
    "up_dict(my_d, 'major', 'Chem')\n",
    "print(f'When key already exists: {my_d}')\n",
    "\n",
    "my_d2 = {'name': 'Ilana', 'year': 2027}\n",
    "up_dict(my_d2, 'major', 'Chem')\n",
    "print(f'Adding key: {my_d2}')\n",
    "\n"
   ]
  },
  {
   "cell_type": "markdown",
   "metadata": {},
   "source": [
    "# Problem 8.\n",
    " Write a function print dictionary items(d) that iterates over a dictionary and prints each key-value pair in the format key: value.\n"
   ]
  },
  {
   "cell_type": "code",
   "execution_count": 17,
   "metadata": {},
   "outputs": [
    {
     "name": "stdout",
     "output_type": "stream",
     "text": [
      "Key: name, Value: Ilana\n",
      "Key: year, Value: 2027\n",
      "Key: major, Value: Chem\n"
     ]
    }
   ],
   "source": [
    "def print_d(d: dict): \n",
    "    for k in d: \n",
    "        print(f'Key: {k}, Value: {d[k]}')\n",
    "\n",
    "print_d(my_d2)"
   ]
  },
  {
   "cell_type": "markdown",
   "metadata": {},
   "source": [
    "# Problem 9.\n",
    " Write a function check key in dictionary(d, key) that checks if a\n",
    "given key exists in a dictionary and returns True or False accordingly.\n"
   ]
  },
  {
   "cell_type": "code",
   "execution_count": 19,
   "metadata": {},
   "outputs": [
    {
     "name": "stdout",
     "output_type": "stream",
     "text": [
      "True conditon: True\n",
      "False conditon: False\n"
     ]
    }
   ],
   "source": [
    "def check_k(d: dict, k) -> bool: \n",
    "    \"\"\"return if key exists\"\"\"\n",
    "    return k in d\n",
    "\n",
    "print(f'True conditon: {check_k(my_d, 'name')}')\n",
    "print(f'False conditon: {check_k(my_d, 'year')}')"
   ]
  },
  {
   "cell_type": "markdown",
   "metadata": {},
   "source": [
    "# Problem 10.\n",
    " Create a dictionary students = {\"Alice\": {\"age\": 20, \"grade\":\n",
    "\"A\"}, \"Bob\": {\"age\": 22, \"grade\": \"B\"}}.\n",
    "Write a function get student grade(students, name) that returns the\n",
    "grade of the given student name. If the student does not exist, return \"Student\n",
    "not found\"."
   ]
  },
  {
   "cell_type": "code",
   "execution_count": null,
   "metadata": {},
   "outputs": [
    {
     "name": "stdout",
     "output_type": "stream",
     "text": [
      "Alice: A\n"
     ]
    }
   ],
   "source": [
    "students = {\"Alice\": {\"age\": 20, \"grade\":\"A\"}, \"Bob\": {\"age\": 22, \"grade\": \"B\"}}\n",
    "\n",
    "def get_grade(s: dict, n: str): \n",
    "    \"\"\"get the grade of a student if they exist\"\"\"\n",
    "    if n in s: \n",
    "        return(f'{n}: {s[n]['grade']}') \n",
    "    else: \n",
    "        return f'Student not found'\n",
    "\n",
    "get_grade(students, 'Alice')"
   ]
  },
  {
   "cell_type": "markdown",
   "metadata": {},
   "source": [
    "# Testing Code"
   ]
  },
  {
   "cell_type": "code",
   "execution_count": 4,
   "metadata": {},
   "outputs": [
    {
     "name": "stdout",
     "output_type": "stream",
     "text": [
      "<class 'str'>\n",
      "Name: Lisa, Department: Sales, Salary: 50000\n",
      "<class 'str'>\n",
      "Name: Lisa, Department: Sales, Salary: 50000\n"
     ]
    }
   ],
   "source": [
    "def create_employee_dictionary(name,department,salary):\n",
    "    employee = (f\"Name: {name}, Department: {department}, Salary: {salary}\")\n",
    "    print(type(employee))\n",
    "    print(employee)\n",
    "create_employee_dictionary(\"Lisa\", \"Sales\", 50000)\n",
    "\n",
    "create_employee_dictionary(\"Lisa\", \"Sales\", 50000)"
   ]
  },
  {
   "cell_type": "code",
   "execution_count": null,
   "metadata": {},
   "outputs": [],
   "source": []
  }
 ],
 "metadata": {
  "kernelspec": {
   "display_name": "Python 3",
   "language": "python",
   "name": "python3"
  },
  "language_info": {
   "codemirror_mode": {
    "name": "ipython",
    "version": 3
   },
   "file_extension": ".py",
   "mimetype": "text/x-python",
   "name": "python",
   "nbconvert_exporter": "python",
   "pygments_lexer": "ipython3",
   "version": "3.12.6"
  }
 },
 "nbformat": 4,
 "nbformat_minor": 2
}
