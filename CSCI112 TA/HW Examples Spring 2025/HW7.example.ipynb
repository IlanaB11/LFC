{
 "cells": [
  {
   "cell_type": "markdown",
   "metadata": {},
   "source": [
    "# Problem 1\n",
    "Create a class Book with attributes title and author. <br><br>\n",
    "Implement a method get summary() that returns a string summarizing\n",
    "the book’s title and author, formatted as: \"Title: {title}, Author:\n",
    "{author}\". <br><br>\n",
    "Create two Book objects and print their summaries.\n"
   ]
  },
  {
   "cell_type": "code",
   "execution_count": 2,
   "metadata": {},
   "outputs": [],
   "source": [
    "class Book: \n",
    "    def __init__(self, title, author):\n",
    "        self.title = title\n",
    "        self.author = author\n",
    "    \n",
    "    def summary(self): \n",
    "        return f'Title: {self.title}\\nAuthor: {self.author}'\n",
    "    "
   ]
  },
  {
   "cell_type": "code",
   "execution_count": 3,
   "metadata": {},
   "outputs": [
    {
     "name": "stdout",
     "output_type": "stream",
     "text": [
      "Title: Percy Jackson\n",
      "Author: Riordan\n",
      "\n",
      "Title: Harry Potter\n",
      "Author: Rowling\n"
     ]
    }
   ],
   "source": [
    "book1 = Book('Percy Jackson', 'Riordan')\n",
    "print(book1.summary())\n",
    "print()\n",
    "book2 = Book('Harry Potter', 'Rowling')\n",
    "print(book2.summary())"
   ]
  },
  {
   "cell_type": "markdown",
   "metadata": {},
   "source": [
    "# Problem 2\n",
    "\n",
    "Create a class Student with attributes name and age. <br><br>\n",
    "Implement a method add subject() that adds a subject to a list of subjects the student is taking.<br><br>\n",
    "Implement another method list subjects() that prints all subjects the\n",
    "student is taking. <br><br>\n",
    "Create a Student object, add a few subjects, and print the subjects."
   ]
  },
  {
   "cell_type": "code",
   "execution_count": 4,
   "metadata": {},
   "outputs": [],
   "source": [
    "class Student: \n",
    "    def __init__(self, name, age):\n",
    "        self.name = name\n",
    "        self.age = age\n",
    "        self.subject = []\n",
    "        \n",
    "    def add_subject(self, subject:str): \n",
    "        self.subject.append(subject)\n",
    "        \n",
    "    def list_subjects(self): \n",
    "        for s in self.subject: \n",
    "            print(s)"
   ]
  },
  {
   "cell_type": "code",
   "execution_count": 5,
   "metadata": {},
   "outputs": [
    {
     "name": "stdout",
     "output_type": "stream",
     "text": [
      "Ilana: \n",
      "Chemistry\n",
      "Data Sci\n"
     ]
    }
   ],
   "source": [
    "s1 = Student('Ilana', 19)\n",
    "s1.add_subject('Chemistry')\n",
    "s1.add_subject('Data Sci')\n",
    "print('Ilana: ')\n",
    "s1.list_subjects()"
   ]
  },
  {
   "cell_type": "markdown",
   "metadata": {},
   "source": [
    "# Problem 3\n",
    "Create a class Person with attributes first name and last name. Additionally create a third attribute full name by combining first name and\n",
    "last name.<br><br>\n",
    "Implement a method greet() that returns a greeting message like \"Hello,\n",
    "{full name}!\". <br><br>\n",
    "Create a Person object and print the greeting message.\n"
   ]
  },
  {
   "cell_type": "code",
   "execution_count": 6,
   "metadata": {},
   "outputs": [],
   "source": [
    "class Person: \n",
    "    def __init__(self, fname, lname):\n",
    "        self.name = fname + ' ' + lname\n",
    "    \n",
    "    def greet(self): \n",
    "        return f'Hello {self.name}!'"
   ]
  },
  {
   "cell_type": "code",
   "execution_count": 7,
   "metadata": {},
   "outputs": [
    {
     "data": {
      "text/plain": [
       "'Hello Ilana Berlin!'"
      ]
     },
     "execution_count": 7,
     "metadata": {},
     "output_type": "execute_result"
    }
   ],
   "source": [
    "p1 = Person('Ilana', 'Berlin')\n",
    "p1.greet()"
   ]
  },
  {
   "cell_type": "markdown",
   "metadata": {},
   "source": [
    "# Problem 4\n",
    "\n",
    "Create a class ShoppingCart with an attribute items, which is an empty\n",
    "list. <br><br>\n",
    "Implement a method add item() that adds an item to the shopping cart. <br><br>\n",
    "Implement another method show items() that prints all items in the\n",
    "shopping cart. <br><br>\n",
    "Create a ShoppingCart object, add a few items, and print the list of items.\n"
   ]
  },
  {
   "cell_type": "code",
   "execution_count": 8,
   "metadata": {},
   "outputs": [],
   "source": [
    "class Cart: \n",
    "    def __init__(self):\n",
    "        self.items = []\n",
    "    \n",
    "    def add_item(self, item): \n",
    "        self.items.append(item)\n",
    "    \n",
    "    def show_items(self): \n",
    "       for i in self.items: \n",
    "           print(i)\n",
    "    "
   ]
  },
  {
   "cell_type": "code",
   "execution_count": 9,
   "metadata": {},
   "outputs": [
    {
     "name": "stdout",
     "output_type": "stream",
     "text": [
      "eggs\n",
      "milk\n"
     ]
    }
   ],
   "source": [
    "my_list = Cart()\n",
    "my_list.add_item('eggs')\n",
    "my_list.add_item('milk')\n",
    "my_list.show_items()"
   ]
  },
  {
   "cell_type": "markdown",
   "metadata": {},
   "source": [
    "# Problem 5\n",
    "Create a class Library with an attribute books, which is a list of book\n",
    "titles.<br><br>\n",
    "Implement a method add book() that adds a new book to the library’s\n",
    "collection.<br><br>\n",
    "Implement another method list books() that prints all the books in the\n",
    "library. Use a loop to iterate through the list and print each book. <br><br>\n",
    "Create a Library object, add a few books, and print the list of books."
   ]
  },
  {
   "cell_type": "code",
   "execution_count": 10,
   "metadata": {},
   "outputs": [],
   "source": [
    "class Library: \n",
    "    def __init__(self):\n",
    "        self.books = []\n",
    "        \n",
    "    def add_book(self, book): \n",
    "        self.books.append(book)\n",
    "    \n",
    "    def list_books(self): \n",
    "        for b in self.books: \n",
    "            print(f'{b.summary()}\\n')\n",
    "    "
   ]
  },
  {
   "cell_type": "code",
   "execution_count": 11,
   "metadata": {},
   "outputs": [
    {
     "name": "stdout",
     "output_type": "stream",
     "text": [
      "Title: Percy Jackson\n",
      "Author: Riordan\n",
      "\n",
      "Title: Harry Potter\n",
      "Author: Rowling\n",
      "\n"
     ]
    }
   ],
   "source": [
    "my_lib = Library()\n",
    "my_lib.add_book(book1)\n",
    "my_lib.add_book(book2)\n",
    "my_lib.list_books()"
   ]
  },
  {
   "cell_type": "markdown",
   "metadata": {},
   "source": [
    "# Problem 6 \n",
    "Create a class Rectangle with attributes length and width.<br><br>\n",
    "Implement a method get area() that returns the area of the rectangle\n",
    "(length * width). <br><br>\n",
    "Create a Rectangle object and print its area"
   ]
  },
  {
   "cell_type": "code",
   "execution_count": 12,
   "metadata": {},
   "outputs": [],
   "source": [
    "class Rectangle: \n",
    "    def __init__(self, l:int, w:int):\n",
    "        self.l = l \n",
    "        self.w = w\n",
    "\n",
    "    def get_area(self): \n",
    "        return self.l * self.w"
   ]
  },
  {
   "cell_type": "code",
   "execution_count": 13,
   "metadata": {},
   "outputs": [
    {
     "name": "stdout",
     "output_type": "stream",
     "text": [
      "8\n"
     ]
    }
   ],
   "source": [
    "r = Rectangle(2, 4)\n",
    "print(r.get_area())"
   ]
  },
  {
   "cell_type": "markdown",
   "metadata": {},
   "source": [
    "# Problem 7\n",
    "Create a class Movie with attributes title and year. <br><br>\n",
    "Create a list of Movie objects. <br><br>\n",
    "Write a method that takes the list of Movie objects and prints the title\n",
    "and year of each movie.<br><br>\n",
    "Create a few Movie objects, add them to the list, and print their details."
   ]
  },
  {
   "cell_type": "code",
   "execution_count": null,
   "metadata": {},
   "outputs": [],
   "source": [
    "class Movie: \n",
    "    def __init__(self, title, year):\n",
    "        self.title = title\n",
    "        self.year= year\n",
    "        \n",
    "    def get_details(self): \n",
    "        print(f'{self.title}: {self.year}')"
   ]
  },
  {
   "cell_type": "code",
   "execution_count": 17,
   "metadata": {},
   "outputs": [
    {
     "name": "stdout",
     "output_type": "stream",
     "text": [
      "Deadpool: 2023\n"
     ]
    }
   ],
   "source": [
    "watch_list = []\n",
    "watch_list.append(Movie('Deadpool', 2023))\n",
    "def print_movies(m_l): \n",
    "    for m in m_l: \n",
    "        m.get_details()\n",
    "\n",
    "print_movies(watch_list)"
   ]
  },
  {
   "cell_type": "markdown",
   "metadata": {},
   "source": [
    "# Problem 8\n",
    "Create a class Song with attributes title and artist.<br><br>\n",
    "Implement a method get song info() that returns a string in the format\n",
    "\"Song: {title} by {artist}\".\n",
    "<br><br>Create a Song object and print the song information."
   ]
  },
  {
   "cell_type": "code",
   "execution_count": 18,
   "metadata": {},
   "outputs": [],
   "source": [
    "class Song: \n",
    "    def __init__(self, title, artist):\n",
    "        self.title = title\n",
    "        self.artist = artist\n",
    "    \n",
    "    def song_info(self): \n",
    "        return f'{self.title} by {self.artist}'"
   ]
  },
  {
   "cell_type": "code",
   "execution_count": 21,
   "metadata": {},
   "outputs": [
    {
     "data": {
      "text/plain": [
       "'Horse and Infant by Jorge'"
      ]
     },
     "execution_count": 21,
     "metadata": {},
     "output_type": "execute_result"
    }
   ],
   "source": [
    "s1 = Song('Horse and Infant', 'Jorge')\n",
    "s1.song_info()"
   ]
  },
  {
   "cell_type": "markdown",
   "metadata": {},
   "source": [
    "# Problem 9 \n",
    "Create a class Person with attributes name and friends (a list of strings).\n",
    "<br><br>Implement a method add friend() that adds a friend to the friends list.\n",
    "<be><br>Implement another method list friends() that prints all friends in a\n",
    "sentence like: \"Friends: {friend1}, {friend2}, {friend3}\".\n",
    "<br><br>Create a Person object, add a few friends, and print the list of friends"
   ]
  },
  {
   "cell_type": "code",
   "execution_count": null,
   "metadata": {},
   "outputs": [],
   "source": [
    "class Person: \n",
    "    def __init__(self, name):\n",
    "        self.name = name\n",
    "        self.friends = []\n",
    "    \n",
    "    def add_friend(self, f_name): \n",
    "        self.friends.append(f_name)\n",
    "        \n",
    "    def list_friends(self): \n",
    "        print('Friends: ', end='')\n",
    "        for f in self.friends: \n",
    "            print(f, end=\", \")\n",
    "        "
   ]
  },
  {
   "cell_type": "code",
   "execution_count": 27,
   "metadata": {},
   "outputs": [
    {
     "name": "stdout",
     "output_type": "stream",
     "text": [
      "Friends: Adela,Ella,"
     ]
    }
   ],
   "source": [
    "myself = Person('Ilana')\n",
    "myself.add_friend('Adela')\n",
    "myself.add_friend('Ella')\n",
    "myself.list_friends()"
   ]
  },
  {
   "cell_type": "markdown",
   "metadata": {},
   "source": [
    "# Question 10\n",
    "Create a class Product with attributes name and price.\n",
    "<br><br>Implement a method get product info() that returns a string with the\n",
    "product’s name and price, like: \"Product: {name}, Price: {price}\".\n",
    "<br><br>Create multiple Product objects, store them in a list, and print the details\n",
    "of each product using the get product info() method."
   ]
  },
  {
   "cell_type": "code",
   "execution_count": 32,
   "metadata": {},
   "outputs": [],
   "source": [
    "class Product: \n",
    "    def __init__(self, name, price):\n",
    "        self.n = name\n",
    "        self.p = price\n",
    "    \n",
    "    def p_info(self): \n",
    "        return f'{self.n}: {self.p}'"
   ]
  },
  {
   "cell_type": "code",
   "execution_count": 33,
   "metadata": {},
   "outputs": [
    {
     "name": "stdout",
     "output_type": "stream",
     "text": [
      "Eggs: 10\n",
      "Flour: 5\n",
      "Sugar: 6\n"
     ]
    }
   ],
   "source": [
    "p1= Product('Eggs', 10)\n",
    "p2 = Product('Flour', 5)\n",
    "p3 = Product('Sugar', 6)\n",
    "p_l = [p1, p2, p3]\n",
    "for p in p_l: \n",
    "    print(p.p_info())"
   ]
  }
 ],
 "metadata": {
  "kernelspec": {
   "display_name": "Python 3",
   "language": "python",
   "name": "python3"
  },
  "language_info": {
   "codemirror_mode": {
    "name": "ipython",
    "version": 3
   },
   "file_extension": ".py",
   "mimetype": "text/x-python",
   "name": "python",
   "nbconvert_exporter": "python",
   "pygments_lexer": "ipython3",
   "version": "3.12.6"
  }
 },
 "nbformat": 4,
 "nbformat_minor": 2
}
